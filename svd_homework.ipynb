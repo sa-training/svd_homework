{
 "cells": [
  {
   "cell_type": "markdown",
   "metadata": {},
   "source": [
    "# Домашнее задание. Разложить матрицу в SVD.\n",
    "\n",
    "Цель: Выполнить сингулярное разложение в python и записать получившуюся матрицу преобразования для следующих матриц: 1)A=[3 7 5 2] 2)B=[0 1 3 2 3 1 0 1 0] 3)C=[5 7 6 4 2 1 3 4 1 3 3 4 5 4 1]"
   ]
  },
  {
   "cell_type": "markdown",
   "metadata": {},
   "source": [
    "1) A = [3 7 5 2]. Представим заданную матрицу размерностью 2 X 2 и выполним ее сингулярное разложение вида A = U*S*V<sup>T</sup>:"
   ]
  },
  {
   "cell_type": "code",
   "execution_count": 1,
   "metadata": {},
   "outputs": [
    {
     "name": "stdout",
     "output_type": "stream",
     "text": [
      "Исходная матрица A:\n",
      "A = \n",
      " [[3 7]\n",
      " [5 2]]\n",
      "SVD разложение:\n",
      "U = \n",
      " [[-0.851 -0.526]\n",
      " [-0.526  0.851]]\n",
      "S = \n",
      " [8.713 3.328]\n",
      "VT = \n",
      " [[-0.595 -0.804]\n",
      " [ 0.804 -0.595]]\n"
     ]
    }
   ],
   "source": [
    "import numpy as np\n",
    "import scipy.linalg as la\n",
    "np.set_printoptions(precision = 3)\n",
    "np.set_printoptions(suppress = True)\n",
    "\n",
    "A = np.array([[3, 7], [5, 2]])\n",
    "print('Исходная матрица A:')\n",
    "print('A = \\n', A)\n",
    "U, s, VT = la.svd(A)\n",
    "print('SVD разложение:')\n",
    "print('U = \\n', U)\n",
    "print('S = \\n', s)\n",
    "print('VT = \\n', VT)"
   ]
  },
  {
   "cell_type": "markdown",
   "metadata": {},
   "source": [
    "В качестве проверки восстановим исходную матрицу:"
   ]
  },
  {
   "cell_type": "code",
   "execution_count": 2,
   "metadata": {
    "scrolled": true
   },
   "outputs": [
    {
     "name": "stdout",
     "output_type": "stream",
     "text": [
      "Восстановленная матрица A = \n",
      " [[3. 7.]\n",
      " [5. 2.]]\n"
     ]
    }
   ],
   "source": [
    "Sigma = np.zeros((A.shape[0], A.shape[1]))\n",
    "Sigma[:np.min(A.shape), :np.min(A.shape)] = np.diag(s)\n",
    "AR = U.dot(Sigma.dot(VT))\n",
    "print('Восстановленная матрица A = \\n', AR)"
   ]
  },
  {
   "cell_type": "markdown",
   "metadata": {},
   "source": [
    "2) В = [0 1 3 2 3 1 0 1 0]. Представим заданную матрицу размерностью 3 X 3 и выполним ее сингулярное разложение вида B = U*S*V<sup>T</sup>:"
   ]
  },
  {
   "cell_type": "code",
   "execution_count": 3,
   "metadata": {},
   "outputs": [
    {
     "name": "stdout",
     "output_type": "stream",
     "text": [
      "Исходная матрица B:\n",
      "B = \n",
      " [[0 1 3]\n",
      " [2 3 1]\n",
      " [0 1 0]]\n",
      "SVD разложение:\n",
      "U = \n",
      " [[-0.567  0.823  0.044]\n",
      " [-0.807 -0.543 -0.232]\n",
      " [-0.167 -0.167  0.972]]\n",
      "S = \n",
      " [4.34  2.416 0.572]\n",
      "VT = \n",
      " [[-0.372 -0.727 -0.578]\n",
      " [-0.45  -0.403  0.797]\n",
      " [-0.812  0.556 -0.177]]\n"
     ]
    }
   ],
   "source": [
    "import numpy as np\n",
    "import scipy.linalg as la\n",
    "\n",
    "B = np.array([[0, 1, 3], [2, 3, 1], [0, 1, 0]])\n",
    "print('Исходная матрица B:')\n",
    "print('B = \\n', B)\n",
    "U, s, VT = la.svd(B)\n",
    "print('SVD разложение:')\n",
    "print('U = \\n', U)\n",
    "print('S = \\n', s)\n",
    "print('VT = \\n', VT)"
   ]
  },
  {
   "cell_type": "markdown",
   "metadata": {},
   "source": [
    "В качестве проверки восстановим исходную матрицу:"
   ]
  },
  {
   "cell_type": "code",
   "execution_count": 4,
   "metadata": {
    "scrolled": true
   },
   "outputs": [
    {
     "name": "stdout",
     "output_type": "stream",
     "text": [
      "Восстановленная матрица B = \n",
      " [[0. 1. 3.]\n",
      " [2. 3. 1.]\n",
      " [0. 1. 0.]]\n"
     ]
    }
   ],
   "source": [
    "Sigma = np.zeros((B.shape[0], B.shape[1]))\n",
    "Sigma[:np.min(B.shape), :np.min(B.shape)] = np.diag(s)\n",
    "BR = U.dot(Sigma.dot(VT))\n",
    "print('Восстановленная матрица B = \\n', BR)"
   ]
  },
  {
   "cell_type": "markdown",
   "metadata": {},
   "source": [
    "2) C = [5 7 6 4 2 1 3 4 1 3 3 4 5 4 1]. Представим заданную матрицу размерностью 3 X 5 и выполним ее сингулярное разложение вида C = U*S*V<sup>T</sup>:"
   ]
  },
  {
   "cell_type": "code",
   "execution_count": 5,
   "metadata": {},
   "outputs": [
    {
     "name": "stdout",
     "output_type": "stream",
     "text": [
      "Исходная матрица C:\n",
      "C = \n",
      " [[5 7 6 4 2]\n",
      " [1 3 4 1 3]\n",
      " [3 4 5 4 1]]\n",
      "SVD разложение:\n",
      "U = \n",
      " [[-0.759  0.234 -0.607]\n",
      " [-0.364 -0.926  0.097]\n",
      " [-0.539  0.295  0.789]]\n",
      "S = \n",
      " [14.947  2.727  1.464]\n",
      "VT = \n",
      " [[-0.387 -0.573 -0.583 -0.372 -0.211]\n",
      " [ 0.415  0.015 -0.302  0.437 -0.739]\n",
      " [-0.391 -0.548  0.472  0.563 -0.091]\n",
      " [-0.437  0.367 -0.531  0.548  0.303]\n",
      " [ 0.579 -0.486 -0.255  0.232  0.556]]\n"
     ]
    }
   ],
   "source": [
    "import numpy as np\n",
    "import scipy.linalg as la\n",
    "\n",
    "C = np.array([[5, 7, 6, 4, 2], [1, 3, 4, 1, 3], [3, 4, 5, 4, 1]])\n",
    "print('Исходная матрица C:')\n",
    "print('C = \\n', C)\n",
    "U, s, VT = la.svd(C)\n",
    "print('SVD разложение:')\n",
    "print('U = \\n', U)\n",
    "print('S = \\n', s)\n",
    "print('VT = \\n', VT)"
   ]
  },
  {
   "cell_type": "markdown",
   "metadata": {},
   "source": [
    "В качестве проверки восстановим исходную матрицу:"
   ]
  },
  {
   "cell_type": "code",
   "execution_count": 6,
   "metadata": {
    "scrolled": true
   },
   "outputs": [
    {
     "name": "stdout",
     "output_type": "stream",
     "text": [
      "Восстановленная матрица C = \n",
      " [[5. 7. 6. 4. 2.]\n",
      " [1. 3. 4. 1. 3.]\n",
      " [3. 4. 5. 4. 1.]]\n"
     ]
    }
   ],
   "source": [
    "Sigma = np.zeros((C.shape[0], C.shape[1]))\n",
    "Sigma[:np.min(C.shape), :np.min(C.shape)] = np.diag(s)\n",
    "CR = U.dot(Sigma.dot(VT))\n",
    "print('Восстановленная матрица C = \\n', CR)"
   ]
  }
 ],
 "metadata": {
  "kernelspec": {
   "display_name": "Python 3",
   "language": "python",
   "name": "python3"
  },
  "language_info": {
   "codemirror_mode": {
    "name": "ipython",
    "version": 3
   },
   "file_extension": ".py",
   "mimetype": "text/x-python",
   "name": "python",
   "nbconvert_exporter": "python",
   "pygments_lexer": "ipython3",
   "version": "3.7.5"
  }
 },
 "nbformat": 4,
 "nbformat_minor": 2
}
